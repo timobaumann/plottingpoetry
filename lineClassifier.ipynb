{
 "cells": [
  {
   "cell_type": "code",
   "execution_count": null,
   "metadata": {},
   "outputs": [],
   "source": [
    "import dynet as dy\n",
    "import numpy as np\n",
    "from collections import defaultdict\n",
    "from itertools import count\n",
    "import sys\n",
    "import random\n",
    "\n",
    "LAYERS = 1\n",
    "INPUT_DIM = 30\n",
    "HIDDEN_DIM = 50\n",
    "\n",
    "builder_type = dy.SimpleRNNBuilder\n",
    "#builder = dy.LSTMBuilder\n",
    "trainer_type = dy.SimpleSGDTrainer\n",
    "\n",
    "characters = list(\"abcdefghijklmnopqrstuvwxyz,. \")\n",
    "characters.append(\"<EOS>\")\n",
    "\n",
    "int2char = list(characters)\n",
    "char2int = {c:i for i,c in enumerate(characters)}\n",
    "\n",
    "VOCAB_SIZE = len(characters)"
   ]
  },
  {
   "cell_type": "code",
   "execution_count": null,
   "metadata": {},
   "outputs": [],
   "source": []
  }
 ],
 "metadata": {
  "kernelspec": {
   "display_name": "Python 3",
   "language": "python",
   "name": "python3"
  },
  "language_info": {
   "codemirror_mode": {
    "name": "ipython",
    "version": 3
   },
   "file_extension": ".py",
   "mimetype": "text/x-python",
   "name": "python",
   "nbconvert_exporter": "python",
   "pygments_lexer": "ipython3",
   "version": "3.6.5"
  }
 },
 "nbformat": 4,
 "nbformat_minor": 2
}
